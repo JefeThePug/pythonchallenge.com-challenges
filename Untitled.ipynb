{
 "cells": [
  {
   "cell_type": "code",
   "execution_count": 34,
   "id": "478c98d6-8bd1-491c-8900-3e238ce40147",
   "metadata": {
    "tags": []
   },
   "outputs": [
    {
     "name": "stdout",
     "output_type": "stream",
     "text": [
      "####################\n",
      "# OUTPUT:          #\n",
      "#                  #\n",
      "# January 27, 1756 #\n",
      "# Mozart           #\n",
      "####################\n"
     ]
    }
   ],
   "source": [
    "txt = \"\"\"January 27, 1756\n",
    "Mozart\"\"\"\n",
    "\n",
    "lines = txt.split(\"\\n\")\n",
    "width = len(max(lines, key=len))\n",
    "width = max(7, width)\n",
    "lines = [f\"# {line:<{width}} #\" for line in [\"OUTPUT:\",\"\"] + lines]\n",
    "\n",
    "output = f'{\"#\"*(width+4)}\\n{chr(10).join(lines)}\\n{\"#\"*(width+4)}'\n",
    "print(output)"
   ]
  },
  {
   "cell_type": "code",
   "execution_count": null,
   "id": "38c50693-3cae-44c7-a212-75925dd9f753",
   "metadata": {
    "tags": []
   },
   "outputs": [],
   "source": []
  },
  {
   "cell_type": "code",
   "execution_count": null,
   "id": "de371512-b426-44fa-b9a5-9cef84f1b7d2",
   "metadata": {
    "tags": []
   },
   "outputs": [],
   "source": []
  },
  {
   "cell_type": "code",
   "execution_count": null,
   "id": "822d4277-d6af-4ff9-9644-e7a42b330a0d",
   "metadata": {},
   "outputs": [],
   "source": []
  }
 ],
 "metadata": {
  "kernelspec": {
   "display_name": "Python 3 (ipykernel)",
   "language": "python",
   "name": "python3"
  },
  "language_info": {
   "codemirror_mode": {
    "name": "ipython",
    "version": 3
   },
   "file_extension": ".py",
   "mimetype": "text/x-python",
   "name": "python",
   "nbconvert_exporter": "python",
   "pygments_lexer": "ipython3",
   "version": "3.10.9"
  }
 },
 "nbformat": 4,
 "nbformat_minor": 5
}
